{
 "cells": [
  {
   "cell_type": "code",
   "execution_count": 1,
   "id": "bace1950-cd37-471f-ae74-4319a2e0981d",
   "metadata": {},
   "outputs": [],
   "source": [
    "%reload_ext autoreload\n",
    "%autoreload 2\n",
    "%matplotlib inline"
   ]
  },
  {
   "cell_type": "code",
   "execution_count": 2,
   "id": "f49e9798-9999-4594-94ca-8c6493a61ae8",
   "metadata": {},
   "outputs": [],
   "source": [
    "import pandas as pd\n",
    "import numpy as np\n",
    "import matplotlib.pyplot as plt"
   ]
  },
  {
   "cell_type": "markdown",
   "id": "520d3d4a-a925-486b-bf90-c899e842a073",
   "metadata": {},
   "source": [
    "# Pandas"
   ]
  },
  {
   "cell_type": "markdown",
   "id": "ac5342a3-c521-474d-abe1-8d2e4b19ac9b",
   "metadata": {},
   "source": [
    "Pandas has 2 primary data structures:\n",
    "- Series: One dimensional - similar to vector/array.\n",
    "- Data Frame: Two dimensional - similar to matrix."
   ]
  },
  {
   "cell_type": "markdown",
   "id": "abd6ff22-12eb-452f-85b1-b18ac7bd9a08",
   "metadata": {},
   "source": [
    "## Series"
   ]
  },
  {
   "cell_type": "code",
   "execution_count": 25,
   "id": "b1d05dec-c034-43b3-ad0a-f233b14f7d86",
   "metadata": {},
   "outputs": [
    {
     "data": {
      "text/plain": [
       "0     2\n",
       "1     4\n",
       "2   -12\n",
       "3     0\n",
       "4     2\n",
       "dtype: int64"
      ]
     },
     "execution_count": 25,
     "metadata": {},
     "output_type": "execute_result"
    }
   ],
   "source": [
    "s = pd.Series([2, 4, -12, 0, 2])\n",
    "s"
   ]
  },
  {
   "cell_type": "code",
   "execution_count": 11,
   "id": "488b288a-96b8-4973-9fbd-ec27252ab677",
   "metadata": {},
   "outputs": [
    {
     "data": {
      "text/plain": [
       "(5,)"
      ]
     },
     "execution_count": 11,
     "metadata": {},
     "output_type": "execute_result"
    }
   ],
   "source": [
    "s.shape"
   ]
  },
  {
   "cell_type": "code",
   "execution_count": 12,
   "id": "276564dc-12a5-449d-8575-65f356d2071c",
   "metadata": {},
   "outputs": [
    {
     "data": {
      "text/plain": [
       "dtype('int64')"
      ]
     },
     "execution_count": 12,
     "metadata": {},
     "output_type": "execute_result"
    }
   ],
   "source": [
    "s.dtype"
   ]
  },
  {
   "cell_type": "code",
   "execution_count": 13,
   "id": "8c2ea60d-c263-473d-985d-dd2bd72f88c4",
   "metadata": {},
   "outputs": [
    {
     "data": {
      "text/plain": [
       "array([  2,   4, -12,   0,   2])"
      ]
     },
     "execution_count": 13,
     "metadata": {},
     "output_type": "execute_result"
    }
   ],
   "source": [
    "s.values  # returns numpy array"
   ]
  },
  {
   "cell_type": "code",
   "execution_count": 14,
   "id": "8bfd6529-7856-4956-95e9-a9a886962307",
   "metadata": {},
   "outputs": [
    {
     "data": {
      "text/plain": [
       "2"
      ]
     },
     "execution_count": 14,
     "metadata": {},
     "output_type": "execute_result"
    }
   ],
   "source": [
    "s[0]"
   ]
  },
  {
   "cell_type": "code",
   "execution_count": 16,
   "id": "deaec1f8-f487-4f19-8fef-e2aeb9cddb0a",
   "metadata": {},
   "outputs": [
    {
     "data": {
      "text/plain": [
       "1     4\n",
       "2   -12\n",
       "dtype: int64"
      ]
     },
     "execution_count": 16,
     "metadata": {},
     "output_type": "execute_result"
    }
   ],
   "source": [
    "s[1:3]"
   ]
  },
  {
   "cell_type": "code",
   "execution_count": 17,
   "id": "998dff3a-2b8b-43f7-acf8-1c4603f88c87",
   "metadata": {},
   "outputs": [
    {
     "data": {
      "text/plain": [
       "1     4\n",
       "2   -12\n",
       "3     0\n",
       "4     2\n",
       "dtype: int64"
      ]
     },
     "execution_count": 17,
     "metadata": {},
     "output_type": "execute_result"
    }
   ],
   "source": [
    "s[1:]"
   ]
  },
  {
   "cell_type": "code",
   "execution_count": 20,
   "id": "c83ebd52-1e8d-47f5-b4e0-5313bcd720ea",
   "metadata": {},
   "outputs": [
    {
     "data": {
      "text/plain": [
       "0    2\n",
       "1    4\n",
       "4    2\n",
       "dtype: int64"
      ]
     },
     "execution_count": 20,
     "metadata": {},
     "output_type": "execute_result"
    }
   ],
   "source": [
    "s[\n",
    "    [True, True, False, False, True]\n",
    "]  # boolean indexing, toggle visibility of each using boolean"
   ]
  },
  {
   "cell_type": "code",
   "execution_count": 26,
   "id": "825801bd-660a-4e61-817a-6e260f04ea43",
   "metadata": {},
   "outputs": [
    {
     "data": {
      "text/plain": [
       "0     4\n",
       "1     8\n",
       "2   -24\n",
       "3     0\n",
       "4     4\n",
       "dtype: int64"
      ]
     },
     "execution_count": 26,
     "metadata": {},
     "output_type": "execute_result"
    }
   ],
   "source": [
    "s * 2  # applied elementwise"
   ]
  },
  {
   "cell_type": "code",
   "execution_count": 28,
   "id": "54a50d81-8efc-4d56-811c-a761e979530f",
   "metadata": {},
   "outputs": [
    {
     "data": {
      "text/plain": [
       "0    False\n",
       "1    False\n",
       "2     True\n",
       "3    False\n",
       "4    False\n",
       "dtype: bool"
      ]
     },
     "execution_count": 28,
     "metadata": {},
     "output_type": "execute_result"
    }
   ],
   "source": [
    "s < 0  # elementwise comparisons"
   ]
  },
  {
   "cell_type": "code",
   "execution_count": 33,
   "id": "9b992fb2-30af-4bc1-bcc5-5fec1e4d8db3",
   "metadata": {},
   "outputs": [
    {
     "data": {
      "text/plain": [
       "0    2\n",
       "1    4\n",
       "4    2\n",
       "dtype: int64"
      ]
     },
     "execution_count": 33,
     "metadata": {},
     "output_type": "execute_result"
    }
   ],
   "source": [
    "s[s > 0]  # applies boolean indexing to result of comparison"
   ]
  },
  {
   "cell_type": "code",
   "execution_count": 34,
   "id": "9b1bdb0b-5946-440a-bd9e-49c72e5ef599",
   "metadata": {},
   "outputs": [
    {
     "data": {
      "text/plain": [
       "-4"
      ]
     },
     "execution_count": 34,
     "metadata": {},
     "output_type": "execute_result"
    }
   ],
   "source": [
    "s.sum()"
   ]
  },
  {
   "cell_type": "code",
   "execution_count": 35,
   "id": "48c5777d-3b43-40bd-92b6-794c95f19726",
   "metadata": {},
   "outputs": [
    {
     "data": {
      "text/plain": [
       "-0.8"
      ]
     },
     "execution_count": 35,
     "metadata": {},
     "output_type": "execute_result"
    }
   ],
   "source": [
    "s.mean()"
   ]
  },
  {
   "cell_type": "code",
   "execution_count": 36,
   "id": "c968b04d-dbc3-49f3-8136-25a085e7ed8d",
   "metadata": {},
   "outputs": [
    {
     "data": {
      "text/plain": [
       "array([  2,   4, -12,   0])"
      ]
     },
     "execution_count": 36,
     "metadata": {},
     "output_type": "execute_result"
    }
   ],
   "source": [
    "s.unique()"
   ]
  },
  {
   "cell_type": "code",
   "execution_count": 42,
   "id": "5c0f35be-beb6-4bb1-babc-e78138617a38",
   "metadata": {},
   "outputs": [
    {
     "data": {
      "text/plain": [
       "-12    1\n",
       " 0     1\n",
       " 2     2\n",
       " 4     1\n",
       "Name: count, dtype: int64"
      ]
     },
     "execution_count": 42,
     "metadata": {},
     "output_type": "execute_result"
    }
   ],
   "source": [
    "vc = s.value_counts().sort_index()\n",
    "vc"
   ]
  },
  {
   "cell_type": "code",
   "execution_count": 45,
   "id": "ece0031c-1cb0-46c1-9c0b-84e6a6d0a2e3",
   "metadata": {},
   "outputs": [
    {
     "data": {
      "image/png": "[encoded data removed]",
      "text/plain": [
       "<Figure size 640x480 with 1 Axes>"
      ]
     },
     "metadata": {},
     "output_type": "display_data"
    }
   ],
   "source": [
    "plt.bar(vc.index, vc.values, width=0.8, color=\"red\", edgecolor=\"black\")\n",
    "plt.xlabel(\"Value\")\n",
    "plt.ylabel(\"Frequency\")\n",
    "plt.title(\"Histogram of Value Counts\")\n",
    "plt.show()"
   ]
  },
  {
   "cell_type": "markdown",
   "id": "dda3d916-7d90-4dd3-8c2c-d27405d0701d",
   "metadata": {},
   "source": [
    "## Data Frames"
   ]
  },
  {
   "cell_type": "code",
   "execution_count": null,
   "id": "103ce788-eae4-4dc7-8e08-5c25d6e0b252",
   "metadata": {},
   "outputs": [],
   "source": []
  },
  {
   "cell_type": "code",
   "execution_count": 47,
   "id": "360b074a-4d03-4f0d-9263-a9c15d04f8a8",
   "metadata": {},
   "outputs": [
    {
     "data": {
      "text/html": [
       "<div>\n",
       "<style scoped>\n",
       "    .dataframe tbody tr th:only-of-type {\n",
       "        vertical-align: middle;\n",
       "    }\n",
       "\n",
       "    .dataframe tbody tr th {\n",
       "        vertical-align: top;\n",
       "    }\n",
       "\n",
       "    .dataframe thead th {\n",
       "        text-align: right;\n",
       "    }\n",
       "</style>\n",
       "<table border=\"1\" class=\"dataframe\">\n",
       "  <thead>\n",
       "    <tr style=\"text-align: right;\">\n",
       "      <th></th>\n",
       "      <th>a</th>\n",
       "      <th>b</th>\n",
       "      <th>c</th>\n",
       "    </tr>\n",
       "  </thead>\n",
       "  <tbody>\n",
       "    <tr>\n",
       "      <th>0</th>\n",
       "      <td>1</td>\n",
       "      <td>4</td>\n",
       "      <td>7</td>\n",
       "    </tr>\n",
       "    <tr>\n",
       "      <th>1</th>\n",
       "      <td>2</td>\n",
       "      <td>5</td>\n",
       "      <td>8</td>\n",
       "    </tr>\n",
       "    <tr>\n",
       "      <th>2</th>\n",
       "      <td>3</td>\n",
       "      <td>6</td>\n",
       "      <td>9</td>\n",
       "    </tr>\n",
       "  </tbody>\n",
       "</table>\n",
       "</div>"
      ],
      "text/plain": [
       "   a  b  c\n",
       "0  1  4  7\n",
       "1  2  5  8\n",
       "2  3  6  9"
      ]
     },
     "execution_count": 47,
     "metadata": {},
     "output_type": "execute_result"
    }
   ],
   "source": [
    "df = pd.DataFrame({\"a\": [1, 2, 3], \"b\": [4, 5, 6], \"c\": [7, 8, 9]})\n",
    "df"
   ]
  },
  {
   "cell_type": "code",
   "execution_count": 82,
   "id": "7865decb-480f-45ff-97de-a2f4fe28517f",
   "metadata": {},
   "outputs": [
    {
     "data": {
      "text/html": [
       "<div>\n",
       "<style scoped>\n",
       "    .dataframe tbody tr th:only-of-type {\n",
       "        vertical-align: middle;\n",
       "    }\n",
       "\n",
       "    .dataframe tbody tr th {\n",
       "        vertical-align: top;\n",
       "    }\n",
       "\n",
       "    .dataframe thead th {\n",
       "        text-align: right;\n",
       "    }\n",
       "</style>\n",
       "<table border=\"1\" class=\"dataframe\">\n",
       "  <thead>\n",
       "    <tr style=\"text-align: right;\">\n",
       "      <th></th>\n",
       "      <th>Gender</th>\n",
       "      <th>Age</th>\n",
       "      <th>Suspect-ethnicity</th>\n",
       "      <th>Officer-ethnicity</th>\n",
       "      <th>Object-of-search</th>\n",
       "      <th>Outcome</th>\n",
       "    </tr>\n",
       "  </thead>\n",
       "  <tbody>\n",
       "    <tr>\n",
       "      <th>0</th>\n",
       "      <td>Male</td>\n",
       "      <td>NaN</td>\n",
       "      <td>Other ethnic group - Not stated</td>\n",
       "      <td>Black</td>\n",
       "      <td>Offensive weapons</td>\n",
       "      <td>A no further action disposal</td>\n",
       "    </tr>\n",
       "    <tr>\n",
       "      <th>1</th>\n",
       "      <td>Male</td>\n",
       "      <td>18-24</td>\n",
       "      <td>Other ethnic group - Not stated</td>\n",
       "      <td>Asian</td>\n",
       "      <td>Controlled drugs</td>\n",
       "      <td>A no further action disposal</td>\n",
       "    </tr>\n",
       "    <tr>\n",
       "      <th>2</th>\n",
       "      <td>Male</td>\n",
       "      <td>18-24</td>\n",
       "      <td>Other ethnic group - Not stated</td>\n",
       "      <td>Asian</td>\n",
       "      <td>Controlled drugs</td>\n",
       "      <td>A no further action disposal</td>\n",
       "    </tr>\n",
       "  </tbody>\n",
       "</table>\n",
       "</div>"
      ],
      "text/plain": [
       "  Gender    Age                Suspect-ethnicity Officer-ethnicity  \\\n",
       "0   Male    NaN  Other ethnic group - Not stated             Black   \n",
       "1   Male  18-24  Other ethnic group - Not stated             Asian   \n",
       "2   Male  18-24  Other ethnic group - Not stated             Asian   \n",
       "\n",
       "    Object-of-search                       Outcome  \n",
       "0  Offensive weapons  A no further action disposal  \n",
       "1   Controlled drugs  A no further action disposal  \n",
       "2   Controlled drugs  A no further action disposal  "
      ]
     },
     "execution_count": 82,
     "metadata": {},
     "output_type": "execute_result"
    }
   ],
   "source": [
    "df = pd.read_csv(\"../datasets/dataset_stop_and_searchA.csv\")\n",
    "df.head(3)"
   ]
  },
  {
   "cell_type": "code",
   "execution_count": 61,
   "id": "8969875c-2158-4064-86f8-df1532639219",
   "metadata": {},
   "outputs": [
    {
     "data": {
      "text/plain": [
       "(40, 6)"
      ]
     },
     "execution_count": 61,
     "metadata": {},
     "output_type": "execute_result"
    }
   ],
   "source": [
    "df.shape"
   ]
  },
  {
   "cell_type": "code",
   "execution_count": 62,
   "id": "1a0932b2-b59c-4205-96e7-711a5b9cbc1d",
   "metadata": {},
   "outputs": [
    {
     "data": {
      "text/plain": [
       "Gender               object\n",
       "Age                  object\n",
       "Suspect-ethnicity    object\n",
       "Officer-ethnicity    object\n",
       "Object-of-search     object\n",
       "Outcome              object\n",
       "dtype: object"
      ]
     },
     "execution_count": 62,
     "metadata": {},
     "output_type": "execute_result"
    }
   ],
   "source": [
    "df.dtypes"
   ]
  },
  {
   "cell_type": "code",
   "execution_count": 63,
   "id": "7441b269-6b06-412b-9f05-dae087884b7d",
   "metadata": {},
   "outputs": [
    {
     "name": "stdout",
     "output_type": "stream",
     "text": [
      "<class 'pandas.core.frame.DataFrame'>\n",
      "RangeIndex: 40 entries, 0 to 39\n",
      "Data columns (total 6 columns):\n",
      " #   Column             Non-Null Count  Dtype \n",
      "---  ------             --------------  ----- \n",
      " 0   Gender             40 non-null     object\n",
      " 1   Age                36 non-null     object\n",
      " 2   Suspect-ethnicity  40 non-null     object\n",
      " 3   Officer-ethnicity  40 non-null     object\n",
      " 4   Object-of-search   40 non-null     object\n",
      " 5   Outcome            40 non-null     object\n",
      "dtypes: object(6)\n",
      "memory usage: 2.0+ KB\n"
     ]
    }
   ],
   "source": [
    "df.info()"
   ]
  },
  {
   "cell_type": "code",
   "execution_count": 64,
   "id": "cd479d4f-acba-488c-9934-c18f1cf4b029",
   "metadata": {},
   "outputs": [
    {
     "data": {
      "text/html": [
       "<div>\n",
       "<style scoped>\n",
       "    .dataframe tbody tr th:only-of-type {\n",
       "        vertical-align: middle;\n",
       "    }\n",
       "\n",
       "    .dataframe tbody tr th {\n",
       "        vertical-align: top;\n",
       "    }\n",
       "\n",
       "    .dataframe thead th {\n",
       "        text-align: right;\n",
       "    }\n",
       "</style>\n",
       "<table border=\"1\" class=\"dataframe\">\n",
       "  <thead>\n",
       "    <tr style=\"text-align: right;\">\n",
       "      <th></th>\n",
       "      <th>Gender</th>\n",
       "      <th>Age</th>\n",
       "      <th>Suspect-ethnicity</th>\n",
       "      <th>Officer-ethnicity</th>\n",
       "      <th>Object-of-search</th>\n",
       "      <th>Outcome</th>\n",
       "    </tr>\n",
       "  </thead>\n",
       "  <tbody>\n",
       "    <tr>\n",
       "      <th>count</th>\n",
       "      <td>40</td>\n",
       "      <td>36</td>\n",
       "      <td>40</td>\n",
       "      <td>40</td>\n",
       "      <td>40</td>\n",
       "      <td>40</td>\n",
       "    </tr>\n",
       "    <tr>\n",
       "      <th>unique</th>\n",
       "      <td>2</td>\n",
       "      <td>4</td>\n",
       "      <td>10</td>\n",
       "      <td>4</td>\n",
       "      <td>4</td>\n",
       "      <td>3</td>\n",
       "    </tr>\n",
       "    <tr>\n",
       "      <th>top</th>\n",
       "      <td>Male</td>\n",
       "      <td>18-24</td>\n",
       "      <td>Other ethnic group - Not stated</td>\n",
       "      <td>Black</td>\n",
       "      <td>Controlled drugs</td>\n",
       "      <td>A no further action disposal</td>\n",
       "    </tr>\n",
       "    <tr>\n",
       "      <th>freq</th>\n",
       "      <td>37</td>\n",
       "      <td>22</td>\n",
       "      <td>12</td>\n",
       "      <td>16</td>\n",
       "      <td>22</td>\n",
       "      <td>24</td>\n",
       "    </tr>\n",
       "  </tbody>\n",
       "</table>\n",
       "</div>"
      ],
      "text/plain": [
       "       Gender    Age                Suspect-ethnicity Officer-ethnicity  \\\n",
       "count      40     36                               40                40   \n",
       "unique      2      4                               10                 4   \n",
       "top      Male  18-24  Other ethnic group - Not stated             Black   \n",
       "freq       37     22                               12                16   \n",
       "\n",
       "        Object-of-search                       Outcome  \n",
       "count                 40                            40  \n",
       "unique                 4                             3  \n",
       "top     Controlled drugs  A no further action disposal  \n",
       "freq                  22                            24  "
      ]
     },
     "execution_count": 64,
     "metadata": {},
     "output_type": "execute_result"
    }
   ],
   "source": [
    "df.describe()"
   ]
  },
  {
   "cell_type": "code",
   "execution_count": 75,
   "id": "116e3559-6421-4af8-8550-070f99548257",
   "metadata": {},
   "outputs": [
    {
     "data": {
      "text/plain": [
       "Gender                                          Male\n",
       "Age                                            18-24\n",
       "Suspect-ethnicity    Other ethnic group - Not stated\n",
       "Officer-ethnicity                              Asian\n",
       "Object-of-search                    Controlled drugs\n",
       "Outcome                         Community resolution\n",
       "Name: 3, dtype: object"
      ]
     },
     "execution_count": 75,
     "metadata": {},
     "output_type": "execute_result"
    }
   ],
   "source": [
    "# to access a row, use iloc - uncommonly used\n",
    "df.iloc[3]"
   ]
  },
  {
   "cell_type": "code",
   "execution_count": 76,
   "id": "016a48b8-6129-4f2b-adf3-5bb127661e67",
   "metadata": {},
   "outputs": [
    {
     "data": {
      "text/plain": [
       "Gender                                          Male\n",
       "Age                                            18-24\n",
       "Suspect-ethnicity    Other ethnic group - Not stated\n",
       "Officer-ethnicity                              Asian\n",
       "Object-of-search                    Controlled drugs\n",
       "Outcome                         Community resolution\n",
       "Name: 3, dtype: object"
      ]
     },
     "execution_count": 76,
     "metadata": {},
     "output_type": "execute_result"
    }
   ],
   "source": [
    "# can also use\n",
    "df.loc[3]"
   ]
  },
  {
   "cell_type": "markdown",
   "id": "28a970a2-5650-4e44-aaa3-36570e75f5ca",
   "metadata": {},
   "source": [
    "`df.iloc` uses position (i.e. indexing),\n",
    "`df.loc` uses label"
   ]
  },
  {
   "cell_type": "code",
   "execution_count": 78,
   "id": "3344a9b6-6c1d-499f-8366-53f268a73d6e",
   "metadata": {},
   "outputs": [
    {
     "data": {
      "text/html": [
       "<div>\n",
       "<style scoped>\n",
       "    .dataframe tbody tr th:only-of-type {\n",
       "        vertical-align: middle;\n",
       "    }\n",
       "\n",
       "    .dataframe tbody tr th {\n",
       "        vertical-align: top;\n",
       "    }\n",
       "\n",
       "    .dataframe thead th {\n",
       "        text-align: right;\n",
       "    }\n",
       "</style>\n",
       "<table border=\"1\" class=\"dataframe\">\n",
       "  <thead>\n",
       "    <tr style=\"text-align: right;\">\n",
       "      <th></th>\n",
       "      <th>Gender</th>\n",
       "      <th>Age</th>\n",
       "      <th>Suspect-ethnicity</th>\n",
       "      <th>Officer-ethnicity</th>\n",
       "      <th>Object-of-search</th>\n",
       "      <th>Outcome</th>\n",
       "    </tr>\n",
       "  </thead>\n",
       "  <tbody>\n",
       "    <tr>\n",
       "      <th>0</th>\n",
       "      <td>Male</td>\n",
       "      <td>NaN</td>\n",
       "      <td>Other ethnic group - Not stated</td>\n",
       "      <td>Black</td>\n",
       "      <td>Offensive weapons</td>\n",
       "      <td>A no further action disposal</td>\n",
       "    </tr>\n",
       "    <tr>\n",
       "      <th>9</th>\n",
       "      <td>Male</td>\n",
       "      <td>NaN</td>\n",
       "      <td>Other ethnic group - Any other ethnic group</td>\n",
       "      <td>Black</td>\n",
       "      <td>Controlled drugs</td>\n",
       "      <td>A no further action disposal</td>\n",
       "    </tr>\n",
       "    <tr>\n",
       "      <th>11</th>\n",
       "      <td>Female</td>\n",
       "      <td>18-24</td>\n",
       "      <td>Black/African/Caribbean/Black British - Any ot...</td>\n",
       "      <td>Black</td>\n",
       "      <td>Stolen goods</td>\n",
       "      <td>A no further action disposal</td>\n",
       "    </tr>\n",
       "    <tr>\n",
       "      <th>12</th>\n",
       "      <td>Male</td>\n",
       "      <td>10-17</td>\n",
       "      <td>Black/African/Caribbean/Black British - African</td>\n",
       "      <td>Black</td>\n",
       "      <td>Offensive weapons</td>\n",
       "      <td>A no further action disposal</td>\n",
       "    </tr>\n",
       "    <tr>\n",
       "      <th>15</th>\n",
       "      <td>Male</td>\n",
       "      <td>25-34</td>\n",
       "      <td>Black/African/Caribbean/Black British - Caribbean</td>\n",
       "      <td>Black</td>\n",
       "      <td>Offensive weapons</td>\n",
       "      <td>A no further action disposal</td>\n",
       "    </tr>\n",
       "    <tr>\n",
       "      <th>18</th>\n",
       "      <td>Male</td>\n",
       "      <td>25-34</td>\n",
       "      <td>Black/African/Caribbean/Black British - Any ot...</td>\n",
       "      <td>Black</td>\n",
       "      <td>Controlled drugs</td>\n",
       "      <td>A no further action disposal</td>\n",
       "    </tr>\n",
       "    <tr>\n",
       "      <th>19</th>\n",
       "      <td>Male</td>\n",
       "      <td>25-34</td>\n",
       "      <td>Other ethnic group - Not stated</td>\n",
       "      <td>Black</td>\n",
       "      <td>Controlled drugs</td>\n",
       "      <td>A no further action disposal</td>\n",
       "    </tr>\n",
       "    <tr>\n",
       "      <th>20</th>\n",
       "      <td>Male</td>\n",
       "      <td>18-24</td>\n",
       "      <td>Mixed/Multiple ethnic groups - White and Black...</td>\n",
       "      <td>Black</td>\n",
       "      <td>Controlled drugs</td>\n",
       "      <td>A no further action disposal</td>\n",
       "    </tr>\n",
       "    <tr>\n",
       "      <th>22</th>\n",
       "      <td>Female</td>\n",
       "      <td>18-24</td>\n",
       "      <td>White - English/Welsh/Scottish/Northern Irish/...</td>\n",
       "      <td>Black</td>\n",
       "      <td>Controlled drugs</td>\n",
       "      <td>Community resolution</td>\n",
       "    </tr>\n",
       "    <tr>\n",
       "      <th>23</th>\n",
       "      <td>Male</td>\n",
       "      <td>18-24</td>\n",
       "      <td>Black/African/Caribbean/Black British - African</td>\n",
       "      <td>Black</td>\n",
       "      <td>Controlled drugs</td>\n",
       "      <td>Arrest</td>\n",
       "    </tr>\n",
       "    <tr>\n",
       "      <th>25</th>\n",
       "      <td>Male</td>\n",
       "      <td>18-24</td>\n",
       "      <td>Black/African/Caribbean/Black British - Caribbean</td>\n",
       "      <td>Black</td>\n",
       "      <td>Controlled drugs</td>\n",
       "      <td>Community resolution</td>\n",
       "    </tr>\n",
       "    <tr>\n",
       "      <th>28</th>\n",
       "      <td>Male</td>\n",
       "      <td>18-24</td>\n",
       "      <td>Black/African/Caribbean/Black British - Any ot...</td>\n",
       "      <td>Black</td>\n",
       "      <td>Offensive weapons</td>\n",
       "      <td>Community resolution</td>\n",
       "    </tr>\n",
       "    <tr>\n",
       "      <th>30</th>\n",
       "      <td>Male</td>\n",
       "      <td>18-24</td>\n",
       "      <td>Black/African/Caribbean/Black British - Any ot...</td>\n",
       "      <td>Black</td>\n",
       "      <td>Stolen goods</td>\n",
       "      <td>Arrest</td>\n",
       "    </tr>\n",
       "    <tr>\n",
       "      <th>34</th>\n",
       "      <td>Male</td>\n",
       "      <td>10-17</td>\n",
       "      <td>Other ethnic group - Not stated</td>\n",
       "      <td>Black</td>\n",
       "      <td>Controlled drugs</td>\n",
       "      <td>Arrest</td>\n",
       "    </tr>\n",
       "    <tr>\n",
       "      <th>35</th>\n",
       "      <td>Male</td>\n",
       "      <td>18-24</td>\n",
       "      <td>Other ethnic group - Not stated</td>\n",
       "      <td>Black</td>\n",
       "      <td>Offensive weapons</td>\n",
       "      <td>Arrest</td>\n",
       "    </tr>\n",
       "    <tr>\n",
       "      <th>39</th>\n",
       "      <td>Male</td>\n",
       "      <td>18-24</td>\n",
       "      <td>Black/African/Caribbean/Black British - Any ot...</td>\n",
       "      <td>Black</td>\n",
       "      <td>Controlled drugs</td>\n",
       "      <td>Arrest</td>\n",
       "    </tr>\n",
       "  </tbody>\n",
       "</table>\n",
       "</div>"
      ],
      "text/plain": [
       "    Gender    Age                                  Suspect-ethnicity  \\\n",
       "0     Male    NaN                    Other ethnic group - Not stated   \n",
       "9     Male    NaN        Other ethnic group - Any other ethnic group   \n",
       "11  Female  18-24  Black/African/Caribbean/Black British - Any ot...   \n",
       "12    Male  10-17    Black/African/Caribbean/Black British - African   \n",
       "15    Male  25-34  Black/African/Caribbean/Black British - Caribbean   \n",
       "18    Male  25-34  Black/African/Caribbean/Black British - Any ot...   \n",
       "19    Male  25-34                    Other ethnic group - Not stated   \n",
       "20    Male  18-24  Mixed/Multiple ethnic groups - White and Black...   \n",
       "22  Female  18-24  White - English/Welsh/Scottish/Northern Irish/...   \n",
       "23    Male  18-24    Black/African/Caribbean/Black British - African   \n",
       "25    Male  18-24  Black/African/Caribbean/Black British - Caribbean   \n",
       "28    Male  18-24  Black/African/Caribbean/Black British - Any ot...   \n",
       "30    Male  18-24  Black/African/Caribbean/Black British - Any ot...   \n",
       "34    Male  10-17                    Other ethnic group - Not stated   \n",
       "35    Male  18-24                    Other ethnic group - Not stated   \n",
       "39    Male  18-24  Black/African/Caribbean/Black British - Any ot...   \n",
       "\n",
       "   Officer-ethnicity   Object-of-search                       Outcome  \n",
       "0              Black  Offensive weapons  A no further action disposal  \n",
       "9              Black   Controlled drugs  A no further action disposal  \n",
       "11             Black       Stolen goods  A no further action disposal  \n",
       "12             Black  Offensive weapons  A no further action disposal  \n",
       "15             Black  Offensive weapons  A no further action disposal  \n",
       "18             Black   Controlled drugs  A no further action disposal  \n",
       "19             Black   Controlled drugs  A no further action disposal  \n",
       "20             Black   Controlled drugs  A no further action disposal  \n",
       "22             Black   Controlled drugs          Community resolution  \n",
       "23             Black   Controlled drugs                        Arrest  \n",
       "25             Black   Controlled drugs          Community resolution  \n",
       "28             Black  Offensive weapons          Community resolution  \n",
       "30             Black       Stolen goods                        Arrest  \n",
       "34             Black   Controlled drugs                        Arrest  \n",
       "35             Black  Offensive weapons                        Arrest  \n",
       "39             Black   Controlled drugs                        Arrest  "
      ]
     },
     "execution_count": 78,
     "metadata": {},
     "output_type": "execute_result"
    }
   ],
   "source": [
    "df[df[\"Officer-ethnicity\"] == \"Black\"]"
   ]
  },
  {
   "cell_type": "markdown",
   "id": "9e2f1c95-9449-4822-b5c5-e56186bad745",
   "metadata": {},
   "source": [
    "### Boolean logic in data frames\n",
    "In order to filter data frame rows using and/or/not, you must use different syntax to Python:\n",
    "- AND: `&`\n",
    "- OR: `|`\n",
    "- NOT: `~`\n",
    "\n",
    "You must also surround each statement using `( )` e.g."
   ]
  },
  {
   "cell_type": "code",
   "execution_count": 80,
   "id": "748b9724-8902-4291-bc28-64c39393bb44",
   "metadata": {},
   "outputs": [
    {
     "data": {
      "text/html": [
       "<div>\n",
       "<style scoped>\n",
       "    .dataframe tbody tr th:only-of-type {\n",
       "        vertical-align: middle;\n",
       "    }\n",
       "\n",
       "    .dataframe tbody tr th {\n",
       "        vertical-align: top;\n",
       "    }\n",
       "\n",
       "    .dataframe thead th {\n",
       "        text-align: right;\n",
       "    }\n",
       "</style>\n",
       "<table border=\"1\" class=\"dataframe\">\n",
       "  <thead>\n",
       "    <tr style=\"text-align: right;\">\n",
       "      <th></th>\n",
       "      <th>Gender</th>\n",
       "      <th>Age</th>\n",
       "      <th>Suspect-ethnicity</th>\n",
       "      <th>Officer-ethnicity</th>\n",
       "      <th>Object-of-search</th>\n",
       "      <th>Outcome</th>\n",
       "    </tr>\n",
       "  </thead>\n",
       "  <tbody>\n",
       "    <tr>\n",
       "      <th>12</th>\n",
       "      <td>Male</td>\n",
       "      <td>10-17</td>\n",
       "      <td>Black/African/Caribbean/Black British - African</td>\n",
       "      <td>Black</td>\n",
       "      <td>Offensive weapons</td>\n",
       "      <td>A no further action disposal</td>\n",
       "    </tr>\n",
       "    <tr>\n",
       "      <th>34</th>\n",
       "      <td>Male</td>\n",
       "      <td>10-17</td>\n",
       "      <td>Other ethnic group - Not stated</td>\n",
       "      <td>Black</td>\n",
       "      <td>Controlled drugs</td>\n",
       "      <td>Arrest</td>\n",
       "    </tr>\n",
       "  </tbody>\n",
       "</table>\n",
       "</div>"
      ],
      "text/plain": [
       "   Gender    Age                                Suspect-ethnicity  \\\n",
       "12   Male  10-17  Black/African/Caribbean/Black British - African   \n",
       "34   Male  10-17                  Other ethnic group - Not stated   \n",
       "\n",
       "   Officer-ethnicity   Object-of-search                       Outcome  \n",
       "12             Black  Offensive weapons  A no further action disposal  \n",
       "34             Black   Controlled drugs                        Arrest  "
      ]
     },
     "execution_count": 80,
     "metadata": {},
     "output_type": "execute_result"
    }
   ],
   "source": [
    "df[(df[\"Officer-ethnicity\"] == \"Black\") & (df[\"Age\"] == \"10-17\")]"
   ]
  },
  {
   "cell_type": "markdown",
   "id": "3a871c1d-c60b-4fa0-be93-d85906bc5438",
   "metadata": {},
   "source": [
    "If we are trying to use this to filter a data frame and store it in an new df, we should use `.copy()`, this prevents changes to the original dataframe elsewhere impacting the new df. This is safer when you aren't discarding the older pointer. E.g. you name the new df `newDf`"
   ]
  },
  {
   "cell_type": "code",
   "execution_count": 83,
   "id": "04d6c47f-f644-4ffe-8f25-9efa5e87a911",
   "metadata": {},
   "outputs": [],
   "source": [
    "newDf = df[df[\"Age\"].notnull()].copy()"
   ]
  },
  {
   "cell_type": "markdown",
   "id": "8d14a468-b896-4587-8279-e013f1242fdd",
   "metadata": {},
   "source": [
    "After changing the dataframe, you should run the following to reset the labels to correspond with indexes again:"
   ]
  },
  {
   "cell_type": "code",
   "execution_count": 86,
   "id": "b1493a44-2160-453a-a216-fb5c4d48c6bc",
   "metadata": {},
   "outputs": [
    {
     "data": {
      "text/html": [
       "<div>\n",
       "<style scoped>\n",
       "    .dataframe tbody tr th:only-of-type {\n",
       "        vertical-align: middle;\n",
       "    }\n",
       "\n",
       "    .dataframe tbody tr th {\n",
       "        vertical-align: top;\n",
       "    }\n",
       "\n",
       "    .dataframe thead th {\n",
       "        text-align: right;\n",
       "    }\n",
       "</style>\n",
       "<table border=\"1\" class=\"dataframe\">\n",
       "  <thead>\n",
       "    <tr style=\"text-align: right;\">\n",
       "      <th></th>\n",
       "      <th>Gender</th>\n",
       "      <th>Age</th>\n",
       "      <th>Suspect-ethnicity</th>\n",
       "      <th>Officer-ethnicity</th>\n",
       "      <th>Object-of-search</th>\n",
       "      <th>Outcome</th>\n",
       "    </tr>\n",
       "  </thead>\n",
       "  <tbody>\n",
       "    <tr>\n",
       "      <th>1</th>\n",
       "      <td>Male</td>\n",
       "      <td>18-24</td>\n",
       "      <td>Other ethnic group - Not stated</td>\n",
       "      <td>Asian</td>\n",
       "      <td>Controlled drugs</td>\n",
       "      <td>A no further action disposal</td>\n",
       "    </tr>\n",
       "    <tr>\n",
       "      <th>2</th>\n",
       "      <td>Male</td>\n",
       "      <td>18-24</td>\n",
       "      <td>Other ethnic group - Not stated</td>\n",
       "      <td>Asian</td>\n",
       "      <td>Controlled drugs</td>\n",
       "      <td>A no further action disposal</td>\n",
       "    </tr>\n",
       "    <tr>\n",
       "      <th>3</th>\n",
       "      <td>Male</td>\n",
       "      <td>18-24</td>\n",
       "      <td>Other ethnic group - Not stated</td>\n",
       "      <td>Asian</td>\n",
       "      <td>Controlled drugs</td>\n",
       "      <td>Community resolution</td>\n",
       "    </tr>\n",
       "    <tr>\n",
       "      <th>4</th>\n",
       "      <td>Male</td>\n",
       "      <td>18-24</td>\n",
       "      <td>Other ethnic group - Not stated</td>\n",
       "      <td>Asian</td>\n",
       "      <td>Controlled drugs</td>\n",
       "      <td>Community resolution</td>\n",
       "    </tr>\n",
       "    <tr>\n",
       "      <th>5</th>\n",
       "      <td>Male</td>\n",
       "      <td>18-24</td>\n",
       "      <td>Other ethnic group - Not stated</td>\n",
       "      <td>White</td>\n",
       "      <td>Controlled drugs</td>\n",
       "      <td>A no further action disposal</td>\n",
       "    </tr>\n",
       "    <tr>\n",
       "      <th>6</th>\n",
       "      <td>Male</td>\n",
       "      <td>18-24</td>\n",
       "      <td>White - Any other White background</td>\n",
       "      <td>White</td>\n",
       "      <td>Controlled drugs</td>\n",
       "      <td>A no further action disposal</td>\n",
       "    </tr>\n",
       "    <tr>\n",
       "      <th>7</th>\n",
       "      <td>Male</td>\n",
       "      <td>25-34</td>\n",
       "      <td>Asian/Asian British - Indian</td>\n",
       "      <td>Asian</td>\n",
       "      <td>Stolen goods</td>\n",
       "      <td>Arrest</td>\n",
       "    </tr>\n",
       "    <tr>\n",
       "      <th>8</th>\n",
       "      <td>Male</td>\n",
       "      <td>18-24</td>\n",
       "      <td>White - Any other White background</td>\n",
       "      <td>White</td>\n",
       "      <td>Controlled drugs</td>\n",
       "      <td>A no further action disposal</td>\n",
       "    </tr>\n",
       "    <tr>\n",
       "      <th>11</th>\n",
       "      <td>Female</td>\n",
       "      <td>18-24</td>\n",
       "      <td>Black/African/Caribbean/Black British - Any ot...</td>\n",
       "      <td>Black</td>\n",
       "      <td>Stolen goods</td>\n",
       "      <td>A no further action disposal</td>\n",
       "    </tr>\n",
       "  </tbody>\n",
       "</table>\n",
       "</div>"
      ],
      "text/plain": [
       "    Gender    Age                                  Suspect-ethnicity  \\\n",
       "1     Male  18-24                    Other ethnic group - Not stated   \n",
       "2     Male  18-24                    Other ethnic group - Not stated   \n",
       "3     Male  18-24                    Other ethnic group - Not stated   \n",
       "4     Male  18-24                    Other ethnic group - Not stated   \n",
       "5     Male  18-24                    Other ethnic group - Not stated   \n",
       "6     Male  18-24                 White - Any other White background   \n",
       "7     Male  25-34                       Asian/Asian British - Indian   \n",
       "8     Male  18-24                 White - Any other White background   \n",
       "11  Female  18-24  Black/African/Caribbean/Black British - Any ot...   \n",
       "\n",
       "   Officer-ethnicity  Object-of-search                       Outcome  \n",
       "1              Asian  Controlled drugs  A no further action disposal  \n",
       "2              Asian  Controlled drugs  A no further action disposal  \n",
       "3              Asian  Controlled drugs          Community resolution  \n",
       "4              Asian  Controlled drugs          Community resolution  \n",
       "5              White  Controlled drugs  A no further action disposal  \n",
       "6              White  Controlled drugs  A no further action disposal  \n",
       "7              Asian      Stolen goods                        Arrest  \n",
       "8              White  Controlled drugs  A no further action disposal  \n",
       "11             Black      Stolen goods  A no further action disposal  "
      ]
     },
     "execution_count": 86,
     "metadata": {},
     "output_type": "execute_result"
    }
   ],
   "source": [
    "newDf.head(9)"
   ]
  },
  {
   "cell_type": "code",
   "execution_count": 88,
   "id": "c333773b-923b-4993-85a4-6f29095905ae",
   "metadata": {},
   "outputs": [],
   "source": [
    "newDf.reset_index(drop=True, inplace=True)"
   ]
  },
  {
   "cell_type": "code",
   "execution_count": 90,
   "id": "1c186918-0de0-4284-a0ed-9d8e30fd54f1",
   "metadata": {},
   "outputs": [
    {
     "data": {
      "text/html": [
       "<div>\n",
       "<style scoped>\n",
       "    .dataframe tbody tr th:only-of-type {\n",
       "        vertical-align: middle;\n",
       "    }\n",
       "\n",
       "    .dataframe tbody tr th {\n",
       "        vertical-align: top;\n",
       "    }\n",
       "\n",
       "    .dataframe thead th {\n",
       "        text-align: right;\n",
       "    }\n",
       "</style>\n",
       "<table border=\"1\" class=\"dataframe\">\n",
       "  <thead>\n",
       "    <tr style=\"text-align: right;\">\n",
       "      <th></th>\n",
       "      <th>Gender</th>\n",
       "      <th>Age</th>\n",
       "      <th>Suspect-ethnicity</th>\n",
       "      <th>Officer-ethnicity</th>\n",
       "      <th>Object-of-search</th>\n",
       "      <th>Outcome</th>\n",
       "    </tr>\n",
       "  </thead>\n",
       "  <tbody>\n",
       "    <tr>\n",
       "      <th>0</th>\n",
       "      <td>Male</td>\n",
       "      <td>18-24</td>\n",
       "      <td>Other ethnic group - Not stated</td>\n",
       "      <td>Asian</td>\n",
       "      <td>Controlled drugs</td>\n",
       "      <td>A no further action disposal</td>\n",
       "    </tr>\n",
       "    <tr>\n",
       "      <th>1</th>\n",
       "      <td>Male</td>\n",
       "      <td>18-24</td>\n",
       "      <td>Other ethnic group - Not stated</td>\n",
       "      <td>Asian</td>\n",
       "      <td>Controlled drugs</td>\n",
       "      <td>A no further action disposal</td>\n",
       "    </tr>\n",
       "    <tr>\n",
       "      <th>2</th>\n",
       "      <td>Male</td>\n",
       "      <td>18-24</td>\n",
       "      <td>Other ethnic group - Not stated</td>\n",
       "      <td>Asian</td>\n",
       "      <td>Controlled drugs</td>\n",
       "      <td>Community resolution</td>\n",
       "    </tr>\n",
       "    <tr>\n",
       "      <th>3</th>\n",
       "      <td>Male</td>\n",
       "      <td>18-24</td>\n",
       "      <td>Other ethnic group - Not stated</td>\n",
       "      <td>Asian</td>\n",
       "      <td>Controlled drugs</td>\n",
       "      <td>Community resolution</td>\n",
       "    </tr>\n",
       "    <tr>\n",
       "      <th>4</th>\n",
       "      <td>Male</td>\n",
       "      <td>18-24</td>\n",
       "      <td>Other ethnic group - Not stated</td>\n",
       "      <td>White</td>\n",
       "      <td>Controlled drugs</td>\n",
       "      <td>A no further action disposal</td>\n",
       "    </tr>\n",
       "    <tr>\n",
       "      <th>5</th>\n",
       "      <td>Male</td>\n",
       "      <td>18-24</td>\n",
       "      <td>White - Any other White background</td>\n",
       "      <td>White</td>\n",
       "      <td>Controlled drugs</td>\n",
       "      <td>A no further action disposal</td>\n",
       "    </tr>\n",
       "    <tr>\n",
       "      <th>6</th>\n",
       "      <td>Male</td>\n",
       "      <td>25-34</td>\n",
       "      <td>Asian/Asian British - Indian</td>\n",
       "      <td>Asian</td>\n",
       "      <td>Stolen goods</td>\n",
       "      <td>Arrest</td>\n",
       "    </tr>\n",
       "    <tr>\n",
       "      <th>7</th>\n",
       "      <td>Male</td>\n",
       "      <td>18-24</td>\n",
       "      <td>White - Any other White background</td>\n",
       "      <td>White</td>\n",
       "      <td>Controlled drugs</td>\n",
       "      <td>A no further action disposal</td>\n",
       "    </tr>\n",
       "    <tr>\n",
       "      <th>8</th>\n",
       "      <td>Female</td>\n",
       "      <td>18-24</td>\n",
       "      <td>Black/African/Caribbean/Black British - Any ot...</td>\n",
       "      <td>Black</td>\n",
       "      <td>Stolen goods</td>\n",
       "      <td>A no further action disposal</td>\n",
       "    </tr>\n",
       "  </tbody>\n",
       "</table>\n",
       "</div>"
      ],
      "text/plain": [
       "   Gender    Age                                  Suspect-ethnicity  \\\n",
       "0    Male  18-24                    Other ethnic group - Not stated   \n",
       "1    Male  18-24                    Other ethnic group - Not stated   \n",
       "2    Male  18-24                    Other ethnic group - Not stated   \n",
       "3    Male  18-24                    Other ethnic group - Not stated   \n",
       "4    Male  18-24                    Other ethnic group - Not stated   \n",
       "5    Male  18-24                 White - Any other White background   \n",
       "6    Male  25-34                       Asian/Asian British - Indian   \n",
       "7    Male  18-24                 White - Any other White background   \n",
       "8  Female  18-24  Black/African/Caribbean/Black British - Any ot...   \n",
       "\n",
       "  Officer-ethnicity  Object-of-search                       Outcome  \n",
       "0             Asian  Controlled drugs  A no further action disposal  \n",
       "1             Asian  Controlled drugs  A no further action disposal  \n",
       "2             Asian  Controlled drugs          Community resolution  \n",
       "3             Asian  Controlled drugs          Community resolution  \n",
       "4             White  Controlled drugs  A no further action disposal  \n",
       "5             White  Controlled drugs  A no further action disposal  \n",
       "6             Asian      Stolen goods                        Arrest  \n",
       "7             White  Controlled drugs  A no further action disposal  \n",
       "8             Black      Stolen goods  A no further action disposal  "
      ]
     },
     "execution_count": 90,
     "metadata": {},
     "output_type": "execute_result"
    }
   ],
   "source": [
    "newDf.head(9)"
   ]
  },
  {
   "cell_type": "markdown",
   "id": "b65cf3c5-835c-4f18-b262-1bbb65bc82f1",
   "metadata": {},
   "source": [
    "In order to delete rows or columns, you can also use `.drop()` instead of filtering.\n",
    "\n",
    "NB: `axis=1` deletes columns, `axis=0` deletes rows`"
   ]
  },
  {
   "cell_type": "code",
   "execution_count": 91,
   "id": "d6e497bf-4980-4d82-8656-1d438c6b5139",
   "metadata": {},
   "outputs": [],
   "source": [
    "newDf.drop(\"Age\", axis=1, inplace=True)"
   ]
  },
  {
   "cell_type": "code",
   "execution_count": 93,
   "id": "82291e0a-707d-4bf8-918f-3487a8cc766e",
   "metadata": {},
   "outputs": [
    {
     "data": {
      "text/html": [
       "<div>\n",
       "<style scoped>\n",
       "    .dataframe tbody tr th:only-of-type {\n",
       "        vertical-align: middle;\n",
       "    }\n",
       "\n",
       "    .dataframe tbody tr th {\n",
       "        vertical-align: top;\n",
       "    }\n",
       "\n",
       "    .dataframe thead th {\n",
       "        text-align: right;\n",
       "    }\n",
       "</style>\n",
       "<table border=\"1\" class=\"dataframe\">\n",
       "  <thead>\n",
       "    <tr style=\"text-align: right;\">\n",
       "      <th></th>\n",
       "      <th>Gender</th>\n",
       "      <th>Suspect-ethnicity</th>\n",
       "      <th>Officer-ethnicity</th>\n",
       "      <th>Object-of-search</th>\n",
       "      <th>Outcome</th>\n",
       "    </tr>\n",
       "  </thead>\n",
       "  <tbody>\n",
       "    <tr>\n",
       "      <th>0</th>\n",
       "      <td>Male</td>\n",
       "      <td>Other ethnic group - Not stated</td>\n",
       "      <td>Asian</td>\n",
       "      <td>Controlled drugs</td>\n",
       "      <td>A no further action disposal</td>\n",
       "    </tr>\n",
       "    <tr>\n",
       "      <th>1</th>\n",
       "      <td>Male</td>\n",
       "      <td>Other ethnic group - Not stated</td>\n",
       "      <td>Asian</td>\n",
       "      <td>Controlled drugs</td>\n",
       "      <td>A no further action disposal</td>\n",
       "    </tr>\n",
       "    <tr>\n",
       "      <th>2</th>\n",
       "      <td>Male</td>\n",
       "      <td>Other ethnic group - Not stated</td>\n",
       "      <td>Asian</td>\n",
       "      <td>Controlled drugs</td>\n",
       "      <td>Community resolution</td>\n",
       "    </tr>\n",
       "  </tbody>\n",
       "</table>\n",
       "</div>"
      ],
      "text/plain": [
       "  Gender                Suspect-ethnicity Officer-ethnicity  Object-of-search  \\\n",
       "0   Male  Other ethnic group - Not stated             Asian  Controlled drugs   \n",
       "1   Male  Other ethnic group - Not stated             Asian  Controlled drugs   \n",
       "2   Male  Other ethnic group - Not stated             Asian  Controlled drugs   \n",
       "\n",
       "                        Outcome  \n",
       "0  A no further action disposal  \n",
       "1  A no further action disposal  \n",
       "2          Community resolution  "
      ]
     },
     "execution_count": 93,
     "metadata": {},
     "output_type": "execute_result"
    }
   ],
   "source": [
    "newDf.head(3)"
   ]
  },
  {
   "cell_type": "code",
   "execution_count": 94,
   "id": "7df24cf7-949e-482b-b68f-a2bd7063164c",
   "metadata": {},
   "outputs": [],
   "source": [
    "newDf.drop(0, axis=0, inplace=True)"
   ]
  },
  {
   "cell_type": "code",
   "execution_count": 117,
   "id": "2e948525-2b3c-4232-94d0-d071eb0770a7",
   "metadata": {},
   "outputs": [
    {
     "data": {
      "text/html": [
       "<div>\n",
       "<style scoped>\n",
       "    .dataframe tbody tr th:only-of-type {\n",
       "        vertical-align: middle;\n",
       "    }\n",
       "\n",
       "    .dataframe tbody tr th {\n",
       "        vertical-align: top;\n",
       "    }\n",
       "\n",
       "    .dataframe thead th {\n",
       "        text-align: right;\n",
       "    }\n",
       "</style>\n",
       "<table border=\"1\" class=\"dataframe\">\n",
       "  <thead>\n",
       "    <tr style=\"text-align: right;\">\n",
       "      <th></th>\n",
       "      <th>Gender</th>\n",
       "      <th>Suspect-ethnicity</th>\n",
       "      <th>Officer-ethnicity</th>\n",
       "      <th>Object-of-search</th>\n",
       "      <th>Outcome</th>\n",
       "    </tr>\n",
       "  </thead>\n",
       "  <tbody>\n",
       "    <tr>\n",
       "      <th>1</th>\n",
       "      <td>Male</td>\n",
       "      <td>Other ethnic group - Not stated</td>\n",
       "      <td>Asian</td>\n",
       "      <td>Controlled drugs</td>\n",
       "      <td>A no further action disposal</td>\n",
       "    </tr>\n",
       "    <tr>\n",
       "      <th>2</th>\n",
       "      <td>Male</td>\n",
       "      <td>Other ethnic group - Not stated</td>\n",
       "      <td>Asian</td>\n",
       "      <td>Controlled drugs</td>\n",
       "      <td>Community resolution</td>\n",
       "    </tr>\n",
       "    <tr>\n",
       "      <th>3</th>\n",
       "      <td>Male</td>\n",
       "      <td>Other ethnic group - Not stated</td>\n",
       "      <td>Asian</td>\n",
       "      <td>Controlled drugs</td>\n",
       "      <td>Community resolution</td>\n",
       "    </tr>\n",
       "  </tbody>\n",
       "</table>\n",
       "</div>"
      ],
      "text/plain": [
       "  Gender                Suspect-ethnicity Officer-ethnicity  Object-of-search  \\\n",
       "1   Male  Other ethnic group - Not stated             Asian  Controlled drugs   \n",
       "2   Male  Other ethnic group - Not stated             Asian  Controlled drugs   \n",
       "3   Male  Other ethnic group - Not stated             Asian  Controlled drugs   \n",
       "\n",
       "                        Outcome  \n",
       "1  A no further action disposal  \n",
       "2          Community resolution  \n",
       "3          Community resolution  "
      ]
     },
     "execution_count": 117,
     "metadata": {},
     "output_type": "execute_result"
    }
   ],
   "source": [
    "newDf.head(3)"
   ]
  },
  {
   "cell_type": "markdown",
   "id": "9456dd09-e9d2-46c8-8c78-86d9e8594026",
   "metadata": {},
   "source": [
    "# Exercise"
   ]
  },
  {
   "cell_type": "code",
   "execution_count": 102,
   "id": "ecbe0462-0277-45a5-aa1a-de87c06ff5bf",
   "metadata": {},
   "outputs": [],
   "source": [
    "df = pd.read_csv(\"../datasets/dataset_stop_and_searchB.csv\")"
   ]
  },
  {
   "cell_type": "code",
   "execution_count": 103,
   "id": "0eac3ced-23a2-454f-ae9e-235d5283dd3a",
   "metadata": {},
   "outputs": [
    {
     "name": "stdout",
     "output_type": "stream",
     "text": [
      "<class 'pandas.core.frame.DataFrame'>\n",
      "RangeIndex: 169418 entries, 0 to 169417\n",
      "Data columns (total 6 columns):\n",
      " #   Column             Non-Null Count   Dtype \n",
      "---  ------             --------------   ----- \n",
      " 0   Gender             167387 non-null  object\n",
      " 1   Age                154371 non-null  object\n",
      " 2   Suspect-ethnicity  167433 non-null  object\n",
      " 3   Officer-ethnicity  166370 non-null  object\n",
      " 4   Object-of-search   168890 non-null  object\n",
      " 5   Outcome            169418 non-null  object\n",
      "dtypes: object(6)\n",
      "memory usage: 7.8+ MB\n"
     ]
    }
   ],
   "source": [
    "df.info()"
   ]
  },
  {
   "cell_type": "code",
   "execution_count": 105,
   "id": "a0a65729-6c0f-49cd-a992-3c51e8ec56f5",
   "metadata": {},
   "outputs": [
    {
     "data": {
      "text/plain": [
       "(169418, 6)"
      ]
     },
     "execution_count": 105,
     "metadata": {},
     "output_type": "execute_result"
    }
   ],
   "source": [
    "df.shape"
   ]
  },
  {
   "cell_type": "code",
   "execution_count": 113,
   "id": "5a22c06c-2609-431b-bee9-68f842639e03",
   "metadata": {},
   "outputs": [],
   "source": [
    "df = df.dropna(axis=0).copy()"
   ]
  },
  {
   "cell_type": "code",
   "execution_count": 115,
   "id": "d7bc964d-4948-4013-9d2b-7178afa413f2",
   "metadata": {},
   "outputs": [],
   "source": [
    "df.reset_index(drop=True, inplace=True)"
   ]
  },
  {
   "cell_type": "code",
   "execution_count": 120,
   "id": "b11440f2-c2b5-4216-bbab-af535af44f69",
   "metadata": {},
   "outputs": [
    {
     "data": {
      "text/plain": [
       "Object-of-search\n",
       "Controlled drugs                       87489\n",
       "Offensive weapons                      29650\n",
       "Stolen goods                           17866\n",
       "Evidence of offences under the Act      8059\n",
       "Anything to threaten or harm anyone     7560\n",
       "Firearms                                1118\n",
       "Fireworks                                517\n",
       "Articles for use in criminal damage      515\n",
       "Name: count, dtype: int64"
      ]
     },
     "execution_count": 120,
     "metadata": {},
     "output_type": "execute_result"
    }
   ],
   "source": [
    "df[\"Object-of-search\"].value_counts()"
   ]
  },
  {
   "cell_type": "code",
   "execution_count": 121,
   "id": "634c92fc-a03f-4c87-a8c5-5a1bb8f29b5e",
   "metadata": {},
   "outputs": [
    {
     "data": {
      "text/plain": [
       "array(['Other ethnic group - Not stated',\n",
       "       'White - Any other White background',\n",
       "       'Asian/Asian British - Indian',\n",
       "       'Black/African/Caribbean/Black British - Any other Black/African/Caribbean background',\n",
       "       'Black/African/Caribbean/Black British - African',\n",
       "       'Black/African/Caribbean/Black British - Caribbean',\n",
       "       'Mixed/Multiple ethnic groups - White and Black African',\n",
       "       'White - English/Welsh/Scottish/Northern Irish/British',\n",
       "       'Asian/Asian British - Any other Asian background',\n",
       "       'Mixed/Multiple ethnic groups - Any other Mixed/Multiple ethnic background',\n",
       "       'Other ethnic group - Any other ethnic group',\n",
       "       'Asian/Asian British - Bangladeshi',\n",
       "       'Asian/Asian British - Pakistani',\n",
       "       'Mixed/Multiple ethnic groups - White and Black Caribbean',\n",
       "       'White - Irish', 'Mixed/Multiple ethnic groups - White and Asian',\n",
       "       'Asian/Asian British - Chinese'], dtype=object)"
      ]
     },
     "execution_count": 121,
     "metadata": {},
     "output_type": "execute_result"
    }
   ],
   "source": [
    "df[\"Suspect-ethnicity\"].unique()"
   ]
  },
  {
   "cell_type": "code",
   "execution_count": 137,
   "id": "385bc49c-a176-4c1e-9b36-233a5322a48a",
   "metadata": {},
   "outputs": [],
   "source": [
    "df[\"Suspect-ethnicity\"] = np.where(\n",
    "    (\n",
    "        df[\"Suspect-ethnicity\"].str.contains(\"Mixed\")\n",
    "        | df[\"Suspect-ethnicity\"].str.contains(\"Other\")\n",
    "    ),\n",
    "    \"Other\",\n",
    "    df[\"Suspect-ethnicity\"],\n",
    ")"
   ]
  },
  {
   "cell_type": "code",
   "execution_count": 138,
   "id": "02558fcf-a9b8-4757-b2d6-110ccbbbb60a",
   "metadata": {},
   "outputs": [
    {
     "data": {
      "text/html": [
       "<div>\n",
       "<style scoped>\n",
       "    .dataframe tbody tr th:only-of-type {\n",
       "        vertical-align: middle;\n",
       "    }\n",
       "\n",
       "    .dataframe tbody tr th {\n",
       "        vertical-align: top;\n",
       "    }\n",
       "\n",
       "    .dataframe thead th {\n",
       "        text-align: right;\n",
       "    }\n",
       "</style>\n",
       "<table border=\"1\" class=\"dataframe\">\n",
       "  <thead>\n",
       "    <tr style=\"text-align: right;\">\n",
       "      <th></th>\n",
       "      <th>Gender</th>\n",
       "      <th>Age</th>\n",
       "      <th>Suspect-ethnicity</th>\n",
       "      <th>Officer-ethnicity</th>\n",
       "      <th>Object-of-search</th>\n",
       "      <th>Outcome</th>\n",
       "      <th>Grouped-suspect-ethnicity</th>\n",
       "    </tr>\n",
       "  </thead>\n",
       "  <tbody>\n",
       "    <tr>\n",
       "      <th>0</th>\n",
       "      <td>Male</td>\n",
       "      <td>18-24</td>\n",
       "      <td>Other</td>\n",
       "      <td>Asian</td>\n",
       "      <td>Controlled drugs</td>\n",
       "      <td>A no further action disposal</td>\n",
       "      <td>Other ethnic group - Not stated</td>\n",
       "    </tr>\n",
       "    <tr>\n",
       "      <th>1</th>\n",
       "      <td>Male</td>\n",
       "      <td>18-24</td>\n",
       "      <td>Other</td>\n",
       "      <td>Asian</td>\n",
       "      <td>Controlled drugs</td>\n",
       "      <td>A no further action disposal</td>\n",
       "      <td>Other ethnic group - Not stated</td>\n",
       "    </tr>\n",
       "    <tr>\n",
       "      <th>2</th>\n",
       "      <td>Male</td>\n",
       "      <td>18-24</td>\n",
       "      <td>Other</td>\n",
       "      <td>Asian</td>\n",
       "      <td>Controlled drugs</td>\n",
       "      <td>Community resolution</td>\n",
       "      <td>Other ethnic group - Not stated</td>\n",
       "    </tr>\n",
       "  </tbody>\n",
       "</table>\n",
       "</div>"
      ],
      "text/plain": [
       "  Gender    Age Suspect-ethnicity Officer-ethnicity  Object-of-search  \\\n",
       "0   Male  18-24             Other             Asian  Controlled drugs   \n",
       "1   Male  18-24             Other             Asian  Controlled drugs   \n",
       "2   Male  18-24             Other             Asian  Controlled drugs   \n",
       "\n",
       "                        Outcome        Grouped-suspect-ethnicity  \n",
       "0  A no further action disposal  Other ethnic group - Not stated  \n",
       "1  A no further action disposal  Other ethnic group - Not stated  \n",
       "2          Community resolution  Other ethnic group - Not stated  "
      ]
     },
     "execution_count": 138,
     "metadata": {},
     "output_type": "execute_result"
    }
   ],
   "source": [
    "df[df[\"Suspect-ethnicity\"] == \"Other\"].head(3)"
   ]
  },
  {
   "cell_type": "code",
   "execution_count": 139,
   "id": "72f2d420-257c-4a5e-8031-81b1e95e4c62",
   "metadata": {},
   "outputs": [],
   "source": [
    "df[\"Suspect-ethnicity\"] = np.where(\n",
    "    df[\"Suspect-ethnicity\"].str.contains(\"White\"), \"White\", df[\"Suspect-ethnicity\"]\n",
    ")"
   ]
  },
  {
   "cell_type": "code",
   "execution_count": 140,
   "id": "eb0e5219-51a1-41fc-a053-fd6854347f8e",
   "metadata": {},
   "outputs": [
    {
     "data": {
      "text/html": [
       "<div>\n",
       "<style scoped>\n",
       "    .dataframe tbody tr th:only-of-type {\n",
       "        vertical-align: middle;\n",
       "    }\n",
       "\n",
       "    .dataframe tbody tr th {\n",
       "        vertical-align: top;\n",
       "    }\n",
       "\n",
       "    .dataframe thead th {\n",
       "        text-align: right;\n",
       "    }\n",
       "</style>\n",
       "<table border=\"1\" class=\"dataframe\">\n",
       "  <thead>\n",
       "    <tr style=\"text-align: right;\">\n",
       "      <th></th>\n",
       "      <th>Gender</th>\n",
       "      <th>Age</th>\n",
       "      <th>Suspect-ethnicity</th>\n",
       "      <th>Officer-ethnicity</th>\n",
       "      <th>Object-of-search</th>\n",
       "      <th>Outcome</th>\n",
       "      <th>Grouped-suspect-ethnicity</th>\n",
       "    </tr>\n",
       "  </thead>\n",
       "  <tbody>\n",
       "    <tr>\n",
       "      <th>5</th>\n",
       "      <td>Male</td>\n",
       "      <td>18-24</td>\n",
       "      <td>White</td>\n",
       "      <td>White</td>\n",
       "      <td>Controlled drugs</td>\n",
       "      <td>A no further action disposal</td>\n",
       "      <td>White - Any other White background</td>\n",
       "    </tr>\n",
       "    <tr>\n",
       "      <th>7</th>\n",
       "      <td>Male</td>\n",
       "      <td>18-24</td>\n",
       "      <td>White</td>\n",
       "      <td>White</td>\n",
       "      <td>Controlled drugs</td>\n",
       "      <td>A no further action disposal</td>\n",
       "      <td>White - Any other White background</td>\n",
       "    </tr>\n",
       "    <tr>\n",
       "      <th>10</th>\n",
       "      <td>Male</td>\n",
       "      <td>over 34</td>\n",
       "      <td>White</td>\n",
       "      <td>White</td>\n",
       "      <td>Evidence of offences under the Act</td>\n",
       "      <td>A no further action disposal</td>\n",
       "      <td>White - Any other White background</td>\n",
       "    </tr>\n",
       "  </tbody>\n",
       "</table>\n",
       "</div>"
      ],
      "text/plain": [
       "   Gender      Age Suspect-ethnicity Officer-ethnicity  \\\n",
       "5    Male    18-24             White             White   \n",
       "7    Male    18-24             White             White   \n",
       "10   Male  over 34             White             White   \n",
       "\n",
       "                      Object-of-search                       Outcome  \\\n",
       "5                     Controlled drugs  A no further action disposal   \n",
       "7                     Controlled drugs  A no further action disposal   \n",
       "10  Evidence of offences under the Act  A no further action disposal   \n",
       "\n",
       "             Grouped-suspect-ethnicity  \n",
       "5   White - Any other White background  \n",
       "7   White - Any other White background  \n",
       "10  White - Any other White background  "
      ]
     },
     "execution_count": 140,
     "metadata": {},
     "output_type": "execute_result"
    }
   ],
   "source": [
    "df[df[\"Suspect-ethnicity\"] == \"White\"].head(3)"
   ]
  },
  {
   "cell_type": "code",
   "execution_count": 141,
   "id": "5bbf49ec-cf3c-49fa-83fb-b1f0624906fb",
   "metadata": {},
   "outputs": [],
   "source": [
    "df[\"Suspect-ethnicity\"] = np.where(\n",
    "    df[\"Suspect-ethnicity\"].str.contains(\"Asian\"), \"Asian\", df[\"Suspect-ethnicity\"]\n",
    ")"
   ]
  },
  {
   "cell_type": "code",
   "execution_count": 142,
   "id": "e65697e5-6f33-4cbd-ba5c-1728c500835f",
   "metadata": {},
   "outputs": [
    {
     "data": {
      "text/html": [
       "<div>\n",
       "<style scoped>\n",
       "    .dataframe tbody tr th:only-of-type {\n",
       "        vertical-align: middle;\n",
       "    }\n",
       "\n",
       "    .dataframe tbody tr th {\n",
       "        vertical-align: top;\n",
       "    }\n",
       "\n",
       "    .dataframe thead th {\n",
       "        text-align: right;\n",
       "    }\n",
       "</style>\n",
       "<table border=\"1\" class=\"dataframe\">\n",
       "  <thead>\n",
       "    <tr style=\"text-align: right;\">\n",
       "      <th></th>\n",
       "      <th>Gender</th>\n",
       "      <th>Age</th>\n",
       "      <th>Suspect-ethnicity</th>\n",
       "      <th>Officer-ethnicity</th>\n",
       "      <th>Object-of-search</th>\n",
       "      <th>Outcome</th>\n",
       "      <th>Grouped-suspect-ethnicity</th>\n",
       "    </tr>\n",
       "  </thead>\n",
       "  <tbody>\n",
       "    <tr>\n",
       "      <th>6</th>\n",
       "      <td>Male</td>\n",
       "      <td>25-34</td>\n",
       "      <td>Asian</td>\n",
       "      <td>Asian</td>\n",
       "      <td>Stolen goods</td>\n",
       "      <td>Arrest</td>\n",
       "      <td>Asian/Asian British - Indian</td>\n",
       "    </tr>\n",
       "    <tr>\n",
       "      <th>24</th>\n",
       "      <td>Female</td>\n",
       "      <td>18-24</td>\n",
       "      <td>Asian</td>\n",
       "      <td>Asian</td>\n",
       "      <td>Controlled drugs</td>\n",
       "      <td>A no further action disposal</td>\n",
       "      <td>Asian/Asian British - Any other Asian background</td>\n",
       "    </tr>\n",
       "    <tr>\n",
       "      <th>26</th>\n",
       "      <td>Male</td>\n",
       "      <td>18-24</td>\n",
       "      <td>Asian</td>\n",
       "      <td>Asian</td>\n",
       "      <td>Controlled drugs</td>\n",
       "      <td>A no further action disposal</td>\n",
       "      <td>Asian/Asian British - Any other Asian background</td>\n",
       "    </tr>\n",
       "  </tbody>\n",
       "</table>\n",
       "</div>"
      ],
      "text/plain": [
       "    Gender    Age Suspect-ethnicity Officer-ethnicity  Object-of-search  \\\n",
       "6     Male  25-34             Asian             Asian      Stolen goods   \n",
       "24  Female  18-24             Asian             Asian  Controlled drugs   \n",
       "26    Male  18-24             Asian             Asian  Controlled drugs   \n",
       "\n",
       "                         Outcome  \\\n",
       "6                         Arrest   \n",
       "24  A no further action disposal   \n",
       "26  A no further action disposal   \n",
       "\n",
       "                           Grouped-suspect-ethnicity  \n",
       "6                       Asian/Asian British - Indian  \n",
       "24  Asian/Asian British - Any other Asian background  \n",
       "26  Asian/Asian British - Any other Asian background  "
      ]
     },
     "execution_count": 142,
     "metadata": {},
     "output_type": "execute_result"
    }
   ],
   "source": [
    "df[df[\"Suspect-ethnicity\"] == \"Asian\"].head(3)"
   ]
  },
  {
   "cell_type": "code",
   "execution_count": 144,
   "id": "77edd15c-5d4f-4d95-949c-4e098750716b",
   "metadata": {},
   "outputs": [],
   "source": [
    "df[\"Suspect-ethnicity\"] = np.where(\n",
    "    df[\"Suspect-ethnicity\"].str.contains(\"Black\"), \"Black\", df[\"Suspect-ethnicity\"]\n",
    ")"
   ]
  },
  {
   "cell_type": "code",
   "execution_count": 145,
   "id": "e94f54f2-c3ff-4564-a431-226eb7952e87",
   "metadata": {},
   "outputs": [
    {
     "data": {
      "text/html": [
       "<div>\n",
       "<style scoped>\n",
       "    .dataframe tbody tr th:only-of-type {\n",
       "        vertical-align: middle;\n",
       "    }\n",
       "\n",
       "    .dataframe tbody tr th {\n",
       "        vertical-align: top;\n",
       "    }\n",
       "\n",
       "    .dataframe thead th {\n",
       "        text-align: right;\n",
       "    }\n",
       "</style>\n",
       "<table border=\"1\" class=\"dataframe\">\n",
       "  <thead>\n",
       "    <tr style=\"text-align: right;\">\n",
       "      <th></th>\n",
       "      <th>Gender</th>\n",
       "      <th>Age</th>\n",
       "      <th>Suspect-ethnicity</th>\n",
       "      <th>Officer-ethnicity</th>\n",
       "      <th>Object-of-search</th>\n",
       "      <th>Outcome</th>\n",
       "      <th>Grouped-suspect-ethnicity</th>\n",
       "    </tr>\n",
       "  </thead>\n",
       "  <tbody>\n",
       "    <tr>\n",
       "      <th>8</th>\n",
       "      <td>Female</td>\n",
       "      <td>18-24</td>\n",
       "      <td>Black</td>\n",
       "      <td>Black</td>\n",
       "      <td>Stolen goods</td>\n",
       "      <td>A no further action disposal</td>\n",
       "      <td>Black/African/Caribbean/Black British - Any ot...</td>\n",
       "    </tr>\n",
       "    <tr>\n",
       "      <th>9</th>\n",
       "      <td>Male</td>\n",
       "      <td>10-17</td>\n",
       "      <td>Black</td>\n",
       "      <td>Black</td>\n",
       "      <td>Offensive weapons</td>\n",
       "      <td>A no further action disposal</td>\n",
       "      <td>Black/African/Caribbean/Black British - African</td>\n",
       "    </tr>\n",
       "    <tr>\n",
       "      <th>12</th>\n",
       "      <td>Male</td>\n",
       "      <td>25-34</td>\n",
       "      <td>Black</td>\n",
       "      <td>Black</td>\n",
       "      <td>Offensive weapons</td>\n",
       "      <td>A no further action disposal</td>\n",
       "      <td>Black/African/Caribbean/Black British - Caribbean</td>\n",
       "    </tr>\n",
       "  </tbody>\n",
       "</table>\n",
       "</div>"
      ],
      "text/plain": [
       "    Gender    Age Suspect-ethnicity Officer-ethnicity   Object-of-search  \\\n",
       "8   Female  18-24             Black             Black       Stolen goods   \n",
       "9     Male  10-17             Black             Black  Offensive weapons   \n",
       "12    Male  25-34             Black             Black  Offensive weapons   \n",
       "\n",
       "                         Outcome  \\\n",
       "8   A no further action disposal   \n",
       "9   A no further action disposal   \n",
       "12  A no further action disposal   \n",
       "\n",
       "                            Grouped-suspect-ethnicity  \n",
       "8   Black/African/Caribbean/Black British - Any ot...  \n",
       "9     Black/African/Caribbean/Black British - African  \n",
       "12  Black/African/Caribbean/Black British - Caribbean  "
      ]
     },
     "execution_count": 145,
     "metadata": {},
     "output_type": "execute_result"
    }
   ],
   "source": [
    "df[df[\"Suspect-ethnicity\"] == \"Black\"].head(3)"
   ]
  },
  {
   "cell_type": "code",
   "execution_count": null,
   "id": "ec475adb-097f-4b37-a949-e7beb5860848",
   "metadata": {},
   "outputs": [],
   "source": []
  }
 ],
 "metadata": {
  "kernelspec": {
   "display_name": "Python 3 (ipykernel)",
   "language": "python",
   "name": "python3"
  },
  "language_info": {
   "codemirror_mode": {
    "name": "ipython",
    "version": 3
   },
   "file_extension": ".py",
   "mimetype": "text/x-python",
   "name": "python",
   "nbconvert_exporter": "python",
   "pygments_lexer": "ipython3",
   "version": "3.12.6"
  }
 },
 "nbformat": 4,
 "nbformat_minor": 5
}
