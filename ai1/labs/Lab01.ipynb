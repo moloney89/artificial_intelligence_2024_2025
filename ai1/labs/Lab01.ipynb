{
 "cells": [
  {
   "cell_type": "markdown",
   "id": "146d001d-87c5-44c3-b647-74bd7adadcc9",
   "metadata": {},
   "source": [
    "# Lab01: Basic Numpy Operations"
   ]
  },
  {
   "cell_type": "code",
   "execution_count": 1,
   "id": "43e218d8-95ef-4316-8356-0260d77b91a6",
   "metadata": {},
   "outputs": [],
   "source": [
    "%load_ext autoreload\n",
    "%autoreload 2\n",
    "%matplotlib inline"
   ]
  },
  {
   "cell_type": "code",
   "execution_count": 2,
   "id": "fe591e0d-9a3d-4fef-80a1-688cf8fbb4bc",
   "metadata": {},
   "outputs": [],
   "source": [
    "import numpy as np\n",
    "import matplotlib.pyplot as plt\n",
    "import pandas as pd"
   ]
  },
  {
   "cell_type": "markdown",
   "id": "6206ec6c-e440-4796-bf1d-07e3f8a5939d",
   "metadata": {},
   "source": [
    "## Declaring vectors & matrices"
   ]
  },
  {
   "cell_type": "code",
   "execution_count": 3,
   "id": "3f045680-c970-4e22-a462-bdcc147bf4a5",
   "metadata": {},
   "outputs": [],
   "source": [
    "u = np.array([[2], [-7], [1]])\n",
    "v = np.array([[-3], [0], [4]])\n",
    "A = np.array([[1, 2, 0], [3, -1, 4]])\n",
    "B = np.array([[2, -1], [1, 0], [-3, 4]])"
   ]
  },
  {
   "cell_type": "markdown",
   "id": "261913e3-592c-4080-817e-055b46f64bb2",
   "metadata": {},
   "source": [
    "### Basic Numpy Operations"
   ]
  },
  {
   "cell_type": "code",
   "execution_count": 4,
   "id": "e128696c-852e-489b-b1a1-cb351c31d740",
   "metadata": {},
   "outputs": [
    {
     "data": {
      "text/plain": [
       "array([[-1],\n",
       "       [-7],\n",
       "       [ 5]])"
      ]
     },
     "execution_count": 4,
     "metadata": {},
     "output_type": "execute_result"
    }
   ],
   "source": [
    "qA = u + v\n",
    "qA"
   ]
  },
  {
   "cell_type": "code",
   "execution_count": 6,
   "id": "f16c71b6-3c6d-4322-80e3-81ea7933eb93",
   "metadata": {},
   "outputs": [
    {
     "data": {
      "text/plain": [
       "array([[-6],\n",
       "       [21],\n",
       "       [-3]])"
      ]
     },
     "execution_count": 6,
     "metadata": {},
     "output_type": "execute_result"
    }
   ],
   "source": [
    "qB = -3 * u\n",
    "qB"
   ]
  },
  {
   "cell_type": "code",
   "execution_count": 28,
   "id": "2581009d-72fa-4cf9-bcfe-36d7b158a81f",
   "metadata": {},
   "outputs": [
    {
     "data": {
      "text/plain": [
       "array([[-2]])"
      ]
     },
     "execution_count": 28,
     "metadata": {},
     "output_type": "execute_result"
    }
   ],
   "source": [
    "qC = u.T.dot(v)\n",
    "qC"
   ]
  },
  {
   "cell_type": "markdown",
   "id": "4c3b4d87-7148-46b9-adb1-5afad946c5d7",
   "metadata": {},
   "source": [
    "We typically write $ uv $ instead of $ u^Tv$ because it is more readable, and reduces notational clutter. The transpose is implied by the operation."
   ]
  },
  {
   "cell_type": "code",
   "execution_count": 16,
   "id": "78753db7-474f-4ec9-a1f0-d44740f6d05f",
   "metadata": {},
   "outputs": [
    {
     "data": {
      "text/plain": [
       "array([[54]])"
      ]
     },
     "execution_count": 16,
     "metadata": {},
     "output_type": "execute_result"
    }
   ],
   "source": [
    "qD = u.T.dot(u)\n",
    "qD"
   ]
  },
  {
   "cell_type": "code",
   "execution_count": 17,
   "id": "88442795-2f93-4c54-8d5b-4dbe636faff8",
   "metadata": {},
   "outputs": [
    {
     "data": {
      "text/plain": [
       "array([[7.34846923]])"
      ]
     },
     "execution_count": 17,
     "metadata": {},
     "output_type": "execute_result"
    }
   ],
   "source": [
    "qE = np.sqrt(qD)\n",
    "qE"
   ]
  },
  {
   "cell_type": "code",
   "execution_count": 20,
   "id": "8a082976-1dd8-466f-b180-69d610bdbc64",
   "metadata": {},
   "outputs": [
    {
     "data": {
      "text/plain": [
       "array([[-6],\n",
       "       [ 0],\n",
       "       [ 4]])"
      ]
     },
     "execution_count": 20,
     "metadata": {},
     "output_type": "execute_result"
    }
   ],
   "source": [
    "qF = u * v  # hadamard product\n",
    "qF"
   ]
  },
  {
   "cell_type": "code",
   "execution_count": 21,
   "id": "c5af2153-41f0-4092-bef9-02757c38d276",
   "metadata": {},
   "outputs": [
    {
     "data": {
      "text/plain": [
       "array([[ 2,  4,  0],\n",
       "       [ 6, -2,  8]])"
      ]
     },
     "execution_count": 21,
     "metadata": {},
     "output_type": "execute_result"
    }
   ],
   "source": [
    "qG = A + A\n",
    "qG"
   ]
  },
  {
   "cell_type": "code",
   "execution_count": 22,
   "id": "f5dc40d1-0f86-4039-8873-5cf548114b3d",
   "metadata": {},
   "outputs": [
    {
     "ename": "ValueError",
     "evalue": "operands could not be broadcast together with shapes (2,3) (3,1) ",
     "output_type": "error",
     "traceback": [
      "\u001b[0;31m---------------------------------------------------------------------------\u001b[0m",
      "\u001b[0;31mValueError\u001b[0m                                Traceback (most recent call last)",
      "Cell \u001b[0;32mIn[22], line 1\u001b[0m\n\u001b[0;32m----> 1\u001b[0m qH \u001b[38;5;241m=\u001b[39m \u001b[43mA\u001b[49m\u001b[43m \u001b[49m\u001b[38;5;241;43m+\u001b[39;49m\u001b[43m \u001b[49m\u001b[43mu\u001b[49m\n\u001b[1;32m      2\u001b[0m qH\n",
      "\u001b[0;31mValueError\u001b[0m: operands could not be broadcast together with shapes (2,3) (3,1) "
     ]
    }
   ],
   "source": [
    "qH = A + u\n",
    "qH"
   ]
  },
  {
   "cell_type": "markdown",
   "id": "23802293-0584-4167-ab4e-5b151fc29f8f",
   "metadata": {},
   "source": [
    "Question H is impossible because the matrix and vector do not have the same dimensions"
   ]
  },
  {
   "cell_type": "code",
   "execution_count": 24,
   "id": "3d3efb0b-b5c5-482d-9f69-e8ea2e552db0",
   "metadata": {},
   "outputs": [
    {
     "data": {
      "text/plain": [
       "array([[ 10,  20,   0],\n",
       "       [ 30, -10,  40]])"
      ]
     },
     "execution_count": 24,
     "metadata": {},
     "output_type": "execute_result"
    }
   ],
   "source": [
    "qI = 10 * A\n",
    "qI"
   ]
  },
  {
   "cell_type": "code",
   "execution_count": 25,
   "id": "2f21d0ac-6d8d-432d-8d78-962afc743cae",
   "metadata": {},
   "outputs": [
    {
     "data": {
      "text/plain": [
       "array([[-3],\n",
       "       [ 7]])"
      ]
     },
     "execution_count": 25,
     "metadata": {},
     "output_type": "execute_result"
    }
   ],
   "source": [
    "qJ = A.dot(v)\n",
    "qJ"
   ]
  },
  {
   "cell_type": "code",
   "execution_count": 26,
   "id": "d94eb83c-dc22-4d03-aa7c-65a9a69b5402",
   "metadata": {},
   "outputs": [
    {
     "data": {
      "text/plain": [
       "array([[ 4, -1],\n",
       "       [-7, 13]])"
      ]
     },
     "execution_count": 26,
     "metadata": {},
     "output_type": "execute_result"
    }
   ],
   "source": [
    "qK = A.dot(B)\n",
    "qK"
   ]
  },
  {
   "cell_type": "code",
   "execution_count": 27,
   "id": "23329140-b114-47ce-993e-4911c794db25",
   "metadata": {},
   "outputs": [
    {
     "data": {
      "text/plain": [
       "array([[ 1,  3],\n",
       "       [ 2, -1],\n",
       "       [ 0,  4]])"
      ]
     },
     "execution_count": 27,
     "metadata": {},
     "output_type": "execute_result"
    }
   ],
   "source": [
    "qL = A.T\n",
    "qL"
   ]
  },
  {
   "cell_type": "code",
   "execution_count": 32,
   "id": "1d24946e-de0a-41c7-96fd-2c5ce54ef902",
   "metadata": {},
   "outputs": [
    {
     "data": {
      "text/plain": [
       "array([[ 5,  1],\n",
       "       [ 1, 26]])"
      ]
     },
     "execution_count": 32,
     "metadata": {},
     "output_type": "execute_result"
    }
   ],
   "source": [
    "qM = A.dot(A.T)\n",
    "qM"
   ]
  },
  {
   "cell_type": "code",
   "execution_count": 33,
   "id": "9a927f18-dcda-4b14-b6d8-bc8f6741e9a0",
   "metadata": {},
   "outputs": [
    {
     "data": {
      "text/plain": [
       "array([[10, -1, 12],\n",
       "       [-1,  5, -4],\n",
       "       [12, -4, 16]])"
      ]
     },
     "execution_count": 33,
     "metadata": {},
     "output_type": "execute_result"
    }
   ],
   "source": [
    "qN = A.T.dot(A)\n",
    "qN"
   ]
  },
  {
   "cell_type": "code",
   "execution_count": 39,
   "id": "50d5eeb6-1176-42ae-af83-3292e55ca697",
   "metadata": {},
   "outputs": [
    {
     "data": {
      "text/plain": [
       "-7"
      ]
     },
     "execution_count": 39,
     "metadata": {},
     "output_type": "execute_result"
    }
   ],
   "source": [
    "qO = u.min()\n",
    "qO"
   ]
  },
  {
   "cell_type": "code",
   "execution_count": 43,
   "id": "7e61c3b1-9599-449e-8a9a-91a5d8f9f82f",
   "metadata": {},
   "outputs": [
    {
     "data": {
      "text/plain": [
       "1"
      ]
     },
     "execution_count": 43,
     "metadata": {},
     "output_type": "execute_result"
    }
   ],
   "source": [
    "qP = u.argmin()\n",
    "qP"
   ]
  },
  {
   "cell_type": "code",
   "execution_count": 44,
   "id": "695c4d41-88d9-4ee5-a791-879d01063077",
   "metadata": {},
   "outputs": [
    {
     "data": {
      "text/plain": [
       "-1.3333333333333333"
      ]
     },
     "execution_count": 44,
     "metadata": {},
     "output_type": "execute_result"
    }
   ],
   "source": [
    "qQ = u.mean()\n",
    "qQ"
   ]
  },
  {
   "cell_type": "markdown",
   "id": "cd4db3a2-32cd-4267-acdb-d8f8b0d7e36a",
   "metadata": {},
   "source": [
    "## Q2: ```cumsum```"
   ]
  },
  {
   "cell_type": "code",
   "execution_count": 46,
   "id": "64268787-d778-444f-af50-67d67c21f587",
   "metadata": {},
   "outputs": [
    {
     "data": {
      "text/plain": [
       "array([ 1,  3,  6, 10])"
      ]
     },
     "execution_count": 46,
     "metadata": {},
     "output_type": "execute_result"
    }
   ],
   "source": [
    "x = np.array(list(range(1, 5)))\n",
    "\n",
    "x.cumsum()"
   ]
  },
  {
   "cell_type": "code",
   "execution_count": 51,
   "id": "e36c81f3-a13c-43d6-9e20-f6cb20db8359",
   "metadata": {},
   "outputs": [],
   "source": [
    "def my_cumsum(l1: list):\n",
    "    return [curr := (curr if \"curr\" in locals() else 0) + x for x in l1]"
   ]
  },
  {
   "cell_type": "code",
   "execution_count": 52,
   "id": "d5d68817-4538-4947-946a-899c4fdca586",
   "metadata": {},
   "outputs": [
    {
     "data": {
      "text/plain": [
       "[1, 3, 6, 10]"
      ]
     },
     "execution_count": 52,
     "metadata": {},
     "output_type": "execute_result"
    }
   ],
   "source": [
    "my_cumsum(x)"
   ]
  },
  {
   "cell_type": "code",
   "execution_count": 61,
   "id": "150df0a5-0571-461d-b5d1-5dc0a53d14ae",
   "metadata": {},
   "outputs": [],
   "source": [
    "def dereks_cumsum(l1: list):\n",
    "    total = 0\n",
    "    NewList = [None] * len(l1)\n",
    "    for x in range(len(l1)):\n",
    "        total += l1[x]\n",
    "        NewList[x] = total\n",
    "    return NewList"
   ]
  },
  {
   "cell_type": "code",
   "execution_count": 62,
   "id": "76ce3862-699b-4075-9cb6-e55edf162863",
   "metadata": {},
   "outputs": [
    {
     "name": "stdout",
     "output_type": "stream",
     "text": [
      "383 ns ± 2.35 ns per loop (mean ± std. dev. of 7 runs, 1,000,000 loops each)\n"
     ]
    }
   ],
   "source": [
    "%timeit dereks_cumsum(x)"
   ]
  },
  {
   "cell_type": "code",
   "execution_count": 58,
   "id": "a7f24118-eaa9-4005-9739-f632f97ca46f",
   "metadata": {},
   "outputs": [
    {
     "name": "stdout",
     "output_type": "stream",
     "text": [
      "839 ns ± 6.91 ns per loop (mean ± std. dev. of 7 runs, 1,000,000 loops each)\n"
     ]
    }
   ],
   "source": [
    "%timeit my_cumsum(x)"
   ]
  },
  {
   "cell_type": "code",
   "execution_count": 64,
   "id": "86bbd530-32e0-4335-a625-5ebee586e91a",
   "metadata": {},
   "outputs": [
    {
     "name": "stdout",
     "output_type": "stream",
     "text": [
      "787 ns ± 3.24 ns per loop (mean ± std. dev. of 7 runs, 1,000,000 loops each)\n"
     ]
    }
   ],
   "source": [
    "%timeit np.cumsum(x)"
   ]
  },
  {
   "cell_type": "code",
   "execution_count": null,
   "id": "74514732-b8e7-4494-8dcb-4600d2355a00",
   "metadata": {},
   "outputs": [],
   "source": []
  }
 ],
 "metadata": {
  "kernelspec": {
   "display_name": "Python 3 (ipykernel)",
   "language": "python",
   "name": "python3"
  },
  "language_info": {
   "codemirror_mode": {
    "name": "ipython",
    "version": 3
   },
   "file_extension": ".py",
   "mimetype": "text/x-python",
   "name": "python",
   "nbconvert_exporter": "python",
   "pygments_lexer": "ipython3",
   "version": "3.12.6"
  }
 },
 "nbformat": 4,
 "nbformat_minor": 5
}
